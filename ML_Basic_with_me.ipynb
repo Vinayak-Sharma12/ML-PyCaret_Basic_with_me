{
  "nbformat": 4,
  "nbformat_minor": 0,
  "metadata": {
    "colab": {
      "provenance": [],
      "authorship_tag": "ABX9TyPBGlysQwa0QebSh79/3lW1",
      "include_colab_link": true
    },
    "kernelspec": {
      "name": "python3",
      "display_name": "Python 3"
    },
    "language_info": {
      "name": "python"
    }
  },
  "cells": [
    {
      "cell_type": "markdown",
      "metadata": {
        "id": "view-in-github",
        "colab_type": "text"
      },
      "source": [
        "<a href=\"https://colab.research.google.com/github/Vinayak-Sharma12/ML_Basic_with_me/blob/main/ML_Basic_with_me.ipynb\" target=\"_parent\"><img src=\"https://colab.research.google.com/assets/colab-badge.svg\" alt=\"Open In Colab\"/></a>"
      ]
    },
    {
      "cell_type": "markdown",
      "source": [
        "# **PyCaret**\n",
        "### ->*It is bundle of many Machine Learning Algorithms*\n"
      ],
      "metadata": {
        "id": "cRubmUq6NwGb"
      }
    },
    {
      "cell_type": "markdown",
      "source": [
        "Pycaret is available for\n",
        "\n",
        "✅ Regression (Supervised Learning)\n",
        "\n",
        "✅ Classification (Supervised Learning)\n",
        "\n",
        "✅ Clustering   (UnSupervised Learning)"
      ],
      "metadata": {
        "id": "1JzIJPoGOeUf"
      }
    },
    {
      "cell_type": "markdown",
      "source": [
        "**Supervised Learning** - In Supervised Learning, the data is labelled and the aim is to find the mapping function for classifying unseen data.\n",
        "\n",
        "\n",
        "\n",
        "\n",
        "\n",
        "\n",
        "\n",
        "**Unsupervised Learning** - In Unsupervised Learning,the Data is unlabelled and  the aim is to discover pattern.\n",
        "\n",
        "**Reinforcement Learning** - In Reinforcement Learning, the agent learns to make decisions by interacting  with environment.\n",
        "\n",
        "1. Classification -\n",
        "                    Decision Tree\n",
        "                    SVM\n",
        "                    Random Forest\n",
        "                    K-Nearest Neighbour\n",
        "                    Naives Bayes Classifier\n",
        "\n",
        "\n",
        "2.  Regression -\n",
        "                     Linear Regression\n",
        "                     Neural Network Regression\n",
        "                     Support Vector Regression\n",
        "                     Decision Tree Regression\n",
        "                     Lasso Regression\n",
        "\n",
        "\n",
        "3.  Clustering -   \n",
        "                    K -Means Clustering\n",
        "                    Mean Shift Clustering\n",
        "\n",
        "\n",
        "\n"
      ],
      "metadata": {
        "id": "gKspQXW7PVyo"
      }
    }
  ]
}